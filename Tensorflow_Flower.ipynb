{
  "nbformat": 4,
  "nbformat_minor": 0,
  "metadata": {
    "colab": {
      "provenance": [],
      "gpuType": "T4",
      "authorship_tag": "ABX9TyPWVOF8eVEy2RXdhxnhCBQC",
      "include_colab_link": true
    },
    "kernelspec": {
      "name": "python3",
      "display_name": "Python 3"
    },
    "language_info": {
      "name": "python"
    },
    "accelerator": "TPU"
  },
  "cells": [
    {
      "cell_type": "markdown",
      "metadata": {
        "id": "view-in-github",
        "colab_type": "text"
      },
      "source": [
        "<a href=\"https://colab.research.google.com/github/PanchenkoVI/tensorflow_flowers/blob/main/Tensorflow_Flower.ipynb\" target=\"_parent\"><img src=\"https://colab.research.google.com/assets/colab-badge.svg\" alt=\"Open In Colab\"/></a>"
      ]
    },
    {
      "cell_type": "code",
      "source": [
        "import pandas as pd\n",
        "import numpy as np\n",
        "import sympy\n",
        "import matplotlib.pyplot as plt\n",
        "import PIL\n",
        "import tensorflow as tf\n",
        "from tensorflow import keras\n",
        "from tensorflow.keras import layers\n",
        "from tensorflow.keras.models import Sequential\n",
        "import pathlib"
      ],
      "metadata": {
        "id": "8TMEjvAD7weH"
      },
      "execution_count": 5,
      "outputs": []
    },
    {
      "cell_type": "code",
      "source": [
        "# from google.colab import files\n",
        "# files.upload()"
      ],
      "metadata": {
        "id": "kG529qksnH8l"
      },
      "execution_count": 10,
      "outputs": []
    },
    {
      "cell_type": "code",
      "source": [
        "# !pip install kaggle\n",
        "\n",
        "# !mkdir -p ~/.kaggle\n",
        "# !cp kaggle.json ~/.kaggle/\n",
        "# !chmod 600 ~/.kaggle/kaggle.json"
      ],
      "metadata": {
        "colab": {
          "base_uri": "https://localhost:8080/"
        },
        "id": "BKJh9DRsnkcC",
        "outputId": "93a43aa7-6d09-4ba0-faea-0bec34a4fa72"
      },
      "execution_count": 3,
      "outputs": [
        {
          "output_type": "stream",
          "name": "stdout",
          "text": [
            "Requirement already satisfied: kaggle in /usr/local/lib/python3.10/dist-packages (1.5.16)\n",
            "Requirement already satisfied: six>=1.10 in /usr/local/lib/python3.10/dist-packages (from kaggle) (1.16.0)\n",
            "Requirement already satisfied: certifi in /usr/local/lib/python3.10/dist-packages (from kaggle) (2023.7.22)\n",
            "Requirement already satisfied: python-dateutil in /usr/local/lib/python3.10/dist-packages (from kaggle) (2.8.2)\n",
            "Requirement already satisfied: requests in /usr/local/lib/python3.10/dist-packages (from kaggle) (2.27.1)\n",
            "Requirement already satisfied: tqdm in /usr/local/lib/python3.10/dist-packages (from kaggle) (4.65.0)\n",
            "Requirement already satisfied: python-slugify in /usr/local/lib/python3.10/dist-packages (from kaggle) (8.0.1)\n",
            "Requirement already satisfied: urllib3 in /usr/local/lib/python3.10/dist-packages (from kaggle) (1.26.16)\n",
            "Requirement already satisfied: bleach in /usr/local/lib/python3.10/dist-packages (from kaggle) (6.0.0)\n",
            "Requirement already satisfied: webencodings in /usr/local/lib/python3.10/dist-packages (from bleach->kaggle) (0.5.1)\n",
            "Requirement already satisfied: text-unidecode>=1.3 in /usr/local/lib/python3.10/dist-packages (from python-slugify->kaggle) (1.3)\n",
            "Requirement already satisfied: charset-normalizer~=2.0.0 in /usr/local/lib/python3.10/dist-packages (from requests->kaggle) (2.0.12)\n",
            "Requirement already satisfied: idna<4,>=2.5 in /usr/local/lib/python3.10/dist-packages (from requests->kaggle) (3.4)\n"
          ]
        }
      ]
    },
    {
      "cell_type": "code",
      "source": [
        "# import kaggle\n",
        "# from kaggle.api.kaggle_api_extended import KaggleApi\n",
        "# api = KaggleApi()\n",
        "# api.authenticate()\n",
        "# api.dataset_download_files('utkarshsaxenadn/flower-classification-5-classes-roselilyetc', 'HAM10000_images_part_2')"
      ],
      "metadata": {
        "id": "pZoUtv8Bo_h5"
      },
      "execution_count": 8,
      "outputs": []
    },
    {
      "cell_type": "code",
      "source": [
        "# import zipfile\n",
        "# path_to_zip_file = 'HAM10000_images_part_2/flower-classification-5-classes-roselilyetc.zip'\n",
        "# with zipfile.ZipFile(path_to_zip_file, 'r') as z:\n",
        "#     z.extractall('HAM10000_images_part_1')"
      ],
      "metadata": {
        "id": "UpmiQ5Jyo_kA"
      },
      "execution_count": 9,
      "outputs": []
    },
    {
      "cell_type": "code",
      "source": [
        "# !ls HAM10000_images_part_1/Flower_Classification_V2/V2/TFRecords"
      ],
      "metadata": {
        "id": "4lCzNt2euI3q"
      },
      "execution_count": 11,
      "outputs": []
    },
    {
      "cell_type": "code",
      "source": [
        "import os\n",
        "\n",
        "# Путь к папке, которую вы хотите проверить\n",
        "folder_path = './HAM10000_images_part_1/Flower_Classification_V2/V2/Training Data/'\n",
        "# folder_path = './HAM10000_images_part_1/Flower_Classification_V2/V2/Testing Data/'\n",
        "# folder_path = './HAM10000_images_part_1/Flower_Classification_V2/V2/Validation Data/'\n",
        "\n",
        "\n",
        "# Список поддерживаемых расширений изображений\n",
        "supported_extensions = ['.jpeg', '.png', '.gif', '.bmp']\n",
        "\n",
        "# Функция для проверки наличия неподдерживаемых файлов\n",
        "def check_unsupported_files(folder_path, supported_extensions):\n",
        "    unsupported_files = []\n",
        "    for file in os.listdir(folder_path):\n",
        "        if os.path.isfile(os.path.join(folder_path, file)):\n",
        "            file_extension = os.path.splitext(file)[-1].lower()\n",
        "            if file_extension not in supported_extensions:\n",
        "                unsupported_files.append(file)\n",
        "    return unsupported_files\n",
        "\n",
        "# Проверка наличия неподдерживаемых файлов\n",
        "unsupported_files = check_unsupported_files(folder_path, supported_extensions)\n",
        "\n",
        "# Вывод результатов\n",
        "if unsupported_files:\n",
        "    print(\"Найдены неподдерживаемые файлы:\")\n",
        "    for file in unsupported_files:\n",
        "        print(file)\n",
        "else:\n",
        "    print(\"Все файлы в папке имеют поддерживаемые расширения.\")\n"
      ],
      "metadata": {
        "colab": {
          "base_uri": "https://localhost:8080/"
        },
        "id": "UmWCtUwYB8Pi",
        "outputId": "015b5799-a25b-4337-a6c4-fe134f477532"
      },
      "execution_count": 12,
      "outputs": [
        {
          "output_type": "stream",
          "name": "stdout",
          "text": [
            "Все файлы в папке имеют поддерживаемые расширения.\n"
          ]
        }
      ]
    },
    {
      "cell_type": "code",
      "source": [
        "import os\n",
        "\n",
        "image_extensions = ['.jpg', '.jpeg', '.png', '.gif']\n",
        "\n",
        "from PIL import Image\n",
        "\n",
        "def preprocess_image(image_path):\n",
        "    image = Image.open(image_path)\n",
        "    image = image.convert('RGB')  # Преобразование в RGB, если изображение в другом режиме\n",
        "    image = image.resize((224, 224))  # Приведение к ожидаемому размеру\n",
        "    image = np.array(image)  # Преобразование в массив NumPy\n",
        "    image = image / 255.0  # Нормализация пикселей (если это необходимо)\n",
        "    return image\n",
        "\n",
        "# Функция для подсчета количества фотографий в папке\n",
        "def count_images_in_folder(folder_path):\n",
        "    image_count = 0\n",
        "    for file in os.listdir(folder_path):\n",
        "        if os.path.isfile(os.path.join(folder_path, file)):\n",
        "            if any(file.lower().endswith(ext) for ext in image_extensions):\n",
        "                image_count += 1\n",
        "                # preprocess_image(folder_path+'/'+file)\n",
        "    return image_count\n",
        "\n",
        "# Функция для подсчета общего количества фотографий во всех подпапках\n",
        "def count_total_images(root_folder):\n",
        "    total_count = 0\n",
        "    for foldername in os.listdir(root_folder):\n",
        "        folder_path = os.path.join(root_folder, foldername)\n",
        "        if os.path.isdir(folder_path):\n",
        "            folder_count = count_images_in_folder(folder_path)\n",
        "            total_count += folder_count\n",
        "            print(f\"Folder '{foldername}' has {folder_count} images.\")\n",
        "    return total_count\n",
        "\n",
        "root_folder1 = './HAM10000_images_part_1/Flower_Classification_V2/V2/Training Data/'\n",
        "total_images = count_total_images(root_folder1)\n",
        "print(f\"Training_Data images in all folders: {total_images}\")\n",
        "print('\\n')\n",
        "root_folder2 = './HAM10000_images_part_1/Flower_Classification_V2/V2/Testing Data/'\n",
        "total_images = count_total_images(root_folder2)\n",
        "print(f\"Testing_Data images in all folders: {total_images}\")\n",
        "print('\\n')\n",
        "root_folder3 = './HAM10000_images_part_1/Flower_Classification_V2/V2/Validation Data/'\n",
        "total_images = count_total_images(root_folder3)\n",
        "print(f\"Validation_Data images in all folders: {total_images}\")"
      ],
      "metadata": {
        "colab": {
          "base_uri": "https://localhost:8080/"
        },
        "id": "FlajGx12qEbg",
        "outputId": "7417e6f5-404b-409f-8e2b-d378c0d9e600"
      },
      "execution_count": 6,
      "outputs": [
        {
          "output_type": "stream",
          "name": "stdout",
          "text": [
            "Folder 'Sunflower' has 1500 images.\n",
            "Folder 'Iris' has 1500 images.\n",
            "Folder 'Marigold' has 1500 images.\n",
            "Folder 'Aster' has 1500 images.\n",
            "Folder 'Rose' has 1500 images.\n",
            "Folder 'Daisy' has 1500 images.\n",
            "Folder 'Lavender' has 1500 images.\n",
            "Folder 'Poppy' has 1500 images.\n",
            "Folder 'Orchid' has 1500 images.\n",
            "Folder 'Lily' has 1500 images.\n",
            "Training_Data images in all folders: 15000\n",
            "\n",
            "\n",
            "Folder 'Sunflower' has 328 images.\n",
            "Folder 'Iris' has 317 images.\n",
            "Folder 'Marigold' has 108 images.\n",
            "Folder 'Aster' has 146 images.\n",
            "Folder 'Rose' has 269 images.\n",
            "Folder 'Daisy' has 260 images.\n",
            "Folder 'Lavender' has 217 images.\n",
            "Folder 'Poppy' has 158 images.\n",
            "Folder 'Orchid' has 202 images.\n",
            "Folder 'Lily' has 350 images.\n",
            "Testing_Data images in all folders: 2355\n",
            "\n",
            "\n",
            "Folder 'Sunflower' has 500 images.\n",
            "Folder 'Iris' has 500 images.\n",
            "Folder 'Marigold' has 500 images.\n",
            "Folder 'Aster' has 500 images.\n",
            "Folder 'Rose' has 500 images.\n",
            "Folder 'Daisy' has 500 images.\n",
            "Folder 'Lavender' has 500 images.\n",
            "Folder 'Poppy' has 500 images.\n",
            "Folder 'Orchid' has 500 images.\n",
            "Folder 'Lily' has 500 images.\n",
            "Validation_Data images in all folders: 5000\n"
          ]
        }
      ]
    },
    {
      "cell_type": "code",
      "source": [
        "batch_size = 128\n",
        "width = 180\n",
        "height = 180"
      ],
      "metadata": {
        "id": "smq_Z-1yzLhQ"
      },
      "execution_count": 7,
      "outputs": []
    },
    {
      "cell_type": "code",
      "source": [
        "from tensorflow.keras.preprocessing.image import ImageDataGenerator\n",
        "\n",
        "datagen = ImageDataGenerator(\n",
        "    rescale=1.0/255.0,  # Нормализация значений пикселей\n",
        "    validation_split=0.2  # Разбиение на тренировочный и валидационный датасеты\n",
        ")\n",
        "\n",
        "train_ds = datagen.flow_from_directory(\n",
        "    root_folder1,\n",
        "    target_size=(height, width),\n",
        "    batch_size=batch_size,\n",
        "    class_mode='sparse',\n",
        "    subset='training'\n",
        ")"
      ],
      "metadata": {
        "colab": {
          "base_uri": "https://localhost:8080/"
        },
        "id": "r8rq4QsazM-H",
        "outputId": "c0381643-f45b-42fe-957e-92bdf3b520fa"
      },
      "execution_count": 8,
      "outputs": [
        {
          "output_type": "stream",
          "name": "stdout",
          "text": [
            "Found 12000 images belonging to 10 classes.\n"
          ]
        }
      ]
    },
    {
      "cell_type": "code",
      "source": [
        "val_ds = datagen.flow_from_directory(\n",
        "    root_folder1,\n",
        "    target_size=(height, width),\n",
        "    batch_size=batch_size,\n",
        "    class_mode='sparse',\n",
        "    subset='validation'\n",
        ")"
      ],
      "metadata": {
        "colab": {
          "base_uri": "https://localhost:8080/"
        },
        "id": "rgPz6ZP209Pg",
        "outputId": "19f8a983-b902-42d5-8bc9-bfe987c8594c"
      },
      "execution_count": 9,
      "outputs": [
        {
          "output_type": "stream",
          "name": "stdout",
          "text": [
            "Found 3000 images belonging to 10 classes.\n"
          ]
        }
      ]
    },
    {
      "cell_type": "code",
      "source": [
        "print(f\"train_ds num_classes = {train_ds.num_classes}\")\n",
        "print(f\"train_ds class_indices = {train_ds.class_indices}\")\n",
        "\n",
        "print(f\"val_ds num_classes =   {val_ds.num_classes}\")\n",
        "print(f\"val_ds class_indices =   {val_ds.class_indices}\")"
      ],
      "metadata": {
        "colab": {
          "base_uri": "https://localhost:8080/"
        },
        "id": "P2RtjJbK5WC1",
        "outputId": "124232ca-b7c1-44e2-a4b9-e10168362164"
      },
      "execution_count": 10,
      "outputs": [
        {
          "output_type": "stream",
          "name": "stdout",
          "text": [
            "train_ds num_classes = 10\n",
            "train_ds class_indices = {'Aster': 0, 'Daisy': 1, 'Iris': 2, 'Lavender': 3, 'Lily': 4, 'Marigold': 5, 'Orchid': 6, 'Poppy': 7, 'Rose': 8, 'Sunflower': 9}\n",
            "val_ds num_classes =   10\n",
            "val_ds class_indices =   {'Aster': 0, 'Daisy': 1, 'Iris': 2, 'Lavender': 3, 'Lily': 4, 'Marigold': 5, 'Orchid': 6, 'Poppy': 7, 'Rose': 8, 'Sunflower': 9}\n"
          ]
        }
      ]
    },
    {
      "cell_type": "code",
      "source": [
        "# # cache\n",
        "# AUTOTUNE = tf.data.AUTOTUNE\n",
        "# train_ds = train_ds.cache().shuffle(1000).prefetch(buffer_size=AUTOTUNE)\n",
        "# val_ds = val_ds.cache().prefetch(buffer_size=AUTOTUNE)"
      ],
      "metadata": {
        "id": "qD1bXPdx5Ygk"
      },
      "execution_count": 9,
      "outputs": []
    },
    {
      "cell_type": "code",
      "source": [
        "# create model\n",
        "from tensorflow.keras.models import Sequential\n",
        "\n",
        "num_classes = train_ds.num_classes\n",
        "model = Sequential([\n",
        "\tlayers.experimental.preprocessing.Rescaling(1./255, input_shape=(height, width, 3)),\n",
        "\n",
        "\t# аугментация\n",
        "\tlayers.experimental.preprocessing.RandomFlip(\"horizontal\", input_shape=(height, width, 10)),\n",
        "\tlayers.experimental.preprocessing.RandomRotation(0.1),\n",
        "\tlayers.experimental.preprocessing.RandomZoom(0.1),\n",
        "\tlayers.experimental.preprocessing.RandomContrast(0.2),\n",
        "\n",
        "\ttf.keras.layers.BatchNormalization(),\n",
        "\n",
        "    layers.Conv2D(32, 3, padding='same', activation='relu'),\n",
        "    layers.MaxPooling2D(),\n",
        "\n",
        "    layers.Conv2D(64, 3, padding='same', activation='relu'),\n",
        "    layers.MaxPooling2D(),\n",
        "\n",
        "    layers.Conv2D(128, 3, padding='same', activation='relu'),\n",
        "    layers.MaxPooling2D(),\n",
        "\n",
        "    layers.Dropout(0.25),\n",
        "\n",
        "    layers.Flatten(),\n",
        "\n",
        "    layers.Dense(256, activation='relu'),\n",
        "    layers.Dropout(0.5),\n",
        "\n",
        "    layers.Dense(128, activation='relu'),\n",
        "    layers.Dropout(0.3),\n",
        "\n",
        "    layers.Dense(num_classes, activation='softmax')\n",
        "\n",
        "\t# layers.Flatten(),\n",
        "\t# layers.Dense(32, activation='relu'),\n",
        "\t# layers.Dense(num_classes)\n",
        "])\n",
        "\n",
        "model.compile(\n",
        "\toptimizer='adam',\n",
        "\tloss=tf.keras.losses.SparseCategoricalCrossentropy(from_logits=True),\n",
        "\tmetrics=['accuracy'])\n",
        "\n",
        "model.summary()"
      ],
      "metadata": {
        "colab": {
          "base_uri": "https://localhost:8080/"
        },
        "id": "uvMbr6GEqEeW",
        "outputId": "621aec37-2fb3-4435-bb24-ff1162c78d2d"
      },
      "execution_count": 11,
      "outputs": [
        {
          "output_type": "stream",
          "name": "stdout",
          "text": [
            "Model: \"sequential\"\n",
            "_________________________________________________________________\n",
            " Layer (type)                Output Shape              Param #   \n",
            "=================================================================\n",
            " rescaling (Rescaling)       (None, 180, 180, 3)       0         \n",
            "                                                                 \n",
            " random_flip (RandomFlip)    (None, 180, 180, 3)       0         \n",
            "                                                                 \n",
            " random_rotation (RandomRota  (None, 180, 180, 3)      0         \n",
            " tion)                                                           \n",
            "                                                                 \n",
            " random_zoom (RandomZoom)    (None, 180, 180, 3)       0         \n",
            "                                                                 \n",
            " random_contrast (RandomCont  (None, 180, 180, 3)      0         \n",
            " rast)                                                           \n",
            "                                                                 \n",
            " batch_normalization (BatchN  (None, 180, 180, 3)      12        \n",
            " ormalization)                                                   \n",
            "                                                                 \n",
            " conv2d (Conv2D)             (None, 180, 180, 32)      896       \n",
            "                                                                 \n",
            " max_pooling2d (MaxPooling2D  (None, 90, 90, 32)       0         \n",
            " )                                                               \n",
            "                                                                 \n",
            " conv2d_1 (Conv2D)           (None, 90, 90, 64)        18496     \n",
            "                                                                 \n",
            " max_pooling2d_1 (MaxPooling  (None, 45, 45, 64)       0         \n",
            " 2D)                                                             \n",
            "                                                                 \n",
            " conv2d_2 (Conv2D)           (None, 45, 45, 128)       73856     \n",
            "                                                                 \n",
            " max_pooling2d_2 (MaxPooling  (None, 22, 22, 128)      0         \n",
            " 2D)                                                             \n",
            "                                                                 \n",
            " dropout (Dropout)           (None, 22, 22, 128)       0         \n",
            "                                                                 \n",
            " flatten (Flatten)           (None, 61952)             0         \n",
            "                                                                 \n",
            " dense (Dense)               (None, 256)               15859968  \n",
            "                                                                 \n",
            " dropout_1 (Dropout)         (None, 256)               0         \n",
            "                                                                 \n",
            " dense_1 (Dense)             (None, 128)               32896     \n",
            "                                                                 \n",
            " dropout_2 (Dropout)         (None, 128)               0         \n",
            "                                                                 \n",
            " dense_2 (Dense)             (None, 10)                1290      \n",
            "                                                                 \n",
            "=================================================================\n",
            "Total params: 15,987,414\n",
            "Trainable params: 15,987,408\n",
            "Non-trainable params: 6\n",
            "_________________________________________________________________\n"
          ]
        }
      ]
    },
    {
      "cell_type": "code",
      "source": [
        "# train the model\n",
        "epochs = 20 # количество эпох тренировки\n",
        "history = model.fit(\n",
        "\ttrain_ds,\n",
        "\tvalidation_data=val_ds,\n",
        "\tepochs=epochs)\n",
        "\n",
        "# Epoch 1/20\n",
        "# 94/94 [==============================] - 85s 262ms/step - loss: 2.0088 - accuracy: 0.2801 - val_loss: 2.2969 - val_accuracy: 0.1499\n",
        "# Epoch 2/20\n",
        "# 94/94 [==============================] - 24s 250ms/step - loss: 1.6615 - accuracy: 0.4261 - val_loss: 2.4074 - val_accuracy: 0.1413\n",
        "# Epoch 3/20\n",
        "# 94/94 [==============================] - 24s 250ms/step - loss: 1.5111 - accuracy: 0.4813 - val_loss: 2.5076 - val_accuracy: 0.0857\n",
        "# Epoch 4/20\n",
        "# 94/94 [==============================] - 24s 254ms/step - loss: 1.4321 - accuracy: 0.5057 - val_loss: 2.4268 - val_accuracy: 0.1328\n",
        "# Epoch 5/20\n",
        "# 94/94 [==============================] - 23s 239ms/step - loss: 1.3617 - accuracy: 0.5362 - val_loss: 2.5380 - val_accuracy: 0.1413\n",
        "# Epoch 6/20\n",
        "# 94/94 [==============================] - 24s 249ms/step - loss: 1.3123 - accuracy: 0.5583 - val_loss: 1.7519 - val_accuracy: 0.4004\n",
        "# Epoch 7/20\n",
        "# 94/94 [==============================] - 24s 253ms/step - loss: 1.2744 - accuracy: 0.5678 - val_loss: 1.4757 - val_accuracy: 0.4882\n",
        "# Epoch 8/20\n",
        "# 94/94 [==============================] - 24s 253ms/step - loss: 1.2168 - accuracy: 0.5888 - val_loss: 1.2279 - val_accuracy: 0.6210\n",
        "# Epoch 9/20\n",
        "# 94/94 [==============================] - 23s 242ms/step - loss: 1.1854 - accuracy: 0.6037 - val_loss: 1.3292 - val_accuracy: 0.5610\n",
        "# Epoch 10/20\n",
        "# 94/94 [==============================] - 24s 256ms/step - loss: 1.1425 - accuracy: 0.6190 - val_loss: 1.1536 - val_accuracy: 0.6274\n",
        "# Epoch 11/20\n",
        "# 94/94 [==============================] - 23s 239ms/step - loss: 1.1252 - accuracy: 0.6264 - val_loss: 1.1093 - val_accuracy: 0.6445\n",
        "# Epoch 12/20\n",
        "# 94/94 [==============================] - 24s 253ms/step - loss: 1.1208 - accuracy: 0.6217 - val_loss: 1.1108 - val_accuracy: 0.6124\n",
        "# Epoch 13/20\n",
        "# 94/94 [==============================] - 22s 230ms/step - loss: 1.0834 - accuracy: 0.6407 - val_loss: 1.1129 - val_accuracy: 0.6338\n",
        "# Epoch 14/20\n",
        "# 94/94 [==============================] - 24s 248ms/step - loss: 1.0447 - accuracy: 0.6543 - val_loss: 1.0846 - val_accuracy: 0.6467\n",
        "# Epoch 15/20\n",
        "# 94/94 [==============================] - 24s 251ms/step - loss: 1.0346 - accuracy: 0.6570 - val_loss: 1.0932 - val_accuracy: 0.6531\n",
        "# Epoch 16/20\n",
        "# 94/94 [==============================] - 24s 253ms/step - loss: 1.0224 - accuracy: 0.6572 - val_loss: 1.0362 - val_accuracy: 0.6745\n",
        "# Epoch 17/20\n",
        "# 94/94 [==============================] - 22s 232ms/step - loss: 0.9932 - accuracy: 0.6724 - val_loss: 1.0714 - val_accuracy: 0.6574\n",
        "# Epoch 18/20\n",
        "# 94/94 [==============================] - 24s 258ms/step - loss: 0.9893 - accuracy: 0.6678 - val_loss: 1.0572 - val_accuracy: 0.6767\n",
        "# Epoch 19/20\n",
        "# 94/94 [==============================] - 23s 241ms/step - loss: 0.9618 - accuracy: 0.6830 - val_loss: 1.0640 - val_accuracy: 0.6510\n",
        "# Epoch 20/20\n",
        "# 94/94 [==============================] - 24s 255ms/step - loss: 0.9322 - accuracy: 0.6874 - val_loss: 1.0795 - val_accuracy: 0.6510"
      ],
      "metadata": {
        "colab": {
          "base_uri": "https://localhost:8080/"
        },
        "id": "2RXHXORdZ-b8",
        "outputId": "b90c7566-c7fb-4fac-a2ac-1380cbb4268a"
      },
      "execution_count": null,
      "outputs": [
        {
          "output_type": "stream",
          "name": "stdout",
          "text": [
            "Epoch 1/20\n"
          ]
        },
        {
          "output_type": "stream",
          "name": "stderr",
          "text": [
            "/usr/local/lib/python3.10/dist-packages/keras/backend.py:5612: UserWarning: \"`sparse_categorical_crossentropy` received `from_logits=True`, but the `output` argument was produced by a Softmax activation and thus does not represent logits. Was this intended?\n",
            "  output, from_logits = _get_logits(\n"
          ]
        },
        {
          "output_type": "stream",
          "name": "stdout",
          "text": [
            "94/94 [==============================] - 51s 375ms/step - loss: 1.9268 - accuracy: 0.3020 - val_loss: 2.7415 - val_accuracy: 0.1000\n",
            "Epoch 2/20\n",
            "94/94 [==============================] - 29s 312ms/step - loss: 1.6523 - accuracy: 0.4178 - val_loss: 2.7381 - val_accuracy: 0.0977\n",
            "Epoch 3/20\n",
            "94/94 [==============================] - 29s 305ms/step - loss: 1.5589 - accuracy: 0.4527 - val_loss: 2.8951 - val_accuracy: 0.0973\n",
            "Epoch 4/20\n",
            "94/94 [==============================] - 29s 306ms/step - loss: 1.4917 - accuracy: 0.4827 - val_loss: 2.4096 - val_accuracy: 0.1447\n",
            "Epoch 5/20\n",
            "94/94 [==============================] - 29s 311ms/step - loss: 1.4472 - accuracy: 0.5062 - val_loss: 2.1305 - val_accuracy: 0.2330\n",
            "Epoch 6/20\n",
            "94/94 [==============================] - 29s 306ms/step - loss: 1.3943 - accuracy: 0.5255 - val_loss: 1.8121 - val_accuracy: 0.3620\n",
            "Epoch 7/20\n",
            "94/94 [==============================] - 29s 305ms/step - loss: 1.3590 - accuracy: 0.5436 - val_loss: 1.4296 - val_accuracy: 0.4940\n",
            "Epoch 8/20\n",
            "94/94 [==============================] - 35s 368ms/step - loss: 1.3266 - accuracy: 0.5558 - val_loss: 1.2490 - val_accuracy: 0.5620\n",
            "Epoch 9/20\n",
            "94/94 [==============================] - 29s 306ms/step - loss: 1.2872 - accuracy: 0.5692 - val_loss: 1.2650 - val_accuracy: 0.5717\n",
            "Epoch 10/20\n",
            "94/94 [==============================] - 29s 311ms/step - loss: 1.2548 - accuracy: 0.5833 - val_loss: 1.1825 - val_accuracy: 0.6113\n",
            "Epoch 11/20\n",
            "94/94 [==============================] - 29s 302ms/step - loss: 1.2092 - accuracy: 0.6000 - val_loss: 1.1055 - val_accuracy: 0.6303\n",
            "Epoch 12/20\n",
            "94/94 [==============================] - 29s 307ms/step - loss: 1.1719 - accuracy: 0.6088 - val_loss: 1.1468 - val_accuracy: 0.6190\n",
            "Epoch 13/20\n",
            "94/94 [==============================] - 30s 318ms/step - loss: 1.1498 - accuracy: 0.6198 - val_loss: 1.1127 - val_accuracy: 0.6367\n",
            "Epoch 14/20\n",
            "94/94 [==============================] - 29s 307ms/step - loss: 1.1275 - accuracy: 0.6294 - val_loss: 1.1210 - val_accuracy: 0.6377\n",
            "Epoch 15/20\n",
            "94/94 [==============================] - 29s 307ms/step - loss: 1.1073 - accuracy: 0.6392 - val_loss: 1.0665 - val_accuracy: 0.6457\n",
            "Epoch 16/20\n",
            "94/94 [==============================] - 30s 314ms/step - loss: 1.0869 - accuracy: 0.6436 - val_loss: 1.0402 - val_accuracy: 0.6570\n",
            "Epoch 17/20\n",
            "94/94 [==============================] - 29s 309ms/step - loss: 1.0727 - accuracy: 0.6463 - val_loss: 1.0243 - val_accuracy: 0.6663\n",
            "Epoch 18/20\n",
            "45/94 [=============>................] - ETA: 12s - loss: 1.0498 - accuracy: 0.6573"
          ]
        }
      ]
    },
    {
      "cell_type": "code",
      "source": [
        "# visualize training and validation results\n",
        "acc = history.history['accuracy']\n",
        "val_acc = history.history['val_accuracy']\n",
        "\n",
        "loss = history.history['loss']\n",
        "val_loss = history.history['val_loss']\n",
        "\n",
        "epochs_range = range(epochs)\n",
        "\n",
        "plt.figure(figsize=(8, 8))\n",
        "plt.subplot(1, 2, 1)\n",
        "plt.plot(epochs_range, acc, label='Training Accuracy')\n",
        "plt.plot(epochs_range, val_acc, label='Validation Accuracy')\n",
        "plt.legend(loc='lower right')\n",
        "plt.title('Training and Validation Accuracy')\n",
        "\n",
        "plt.subplot(1, 2, 2)\n",
        "plt.plot(epochs_range, loss, label='Training Loss')\n",
        "plt.plot(epochs_range, val_loss, label='Validation Loss')\n",
        "plt.legend(loc='upper right')\n",
        "plt.title('Training and Validation Loss')\n",
        "plt.show()"
      ],
      "metadata": {
        "colab": {
          "base_uri": "https://localhost:8080/",
          "height": 699
        },
        "id": "f7b5eEZAZ-eR",
        "outputId": "48893047-dd00-4d8b-9cd8-52082a6b26e7"
      },
      "execution_count": 114,
      "outputs": [
        {
          "output_type": "display_data",
          "data": {
            "text/plain": [
              "<Figure size 800x800 with 2 Axes>"
            ],
            "image/png": "[encoded data removed]"
          },
          "metadata": {}
        }
      ]
    },
    {
      "cell_type": "code",
      "source": [
        "# проверяем на новом изображении\n",
        "\n",
        "# # load image\n",
        "# sunflower_url = \"https://storage.googleapis.com/download.tensorflow.org/example_images/592px-Red_sunflower.jpg\"\n",
        "# sunflower_path = tf.keras.utils.get_file('Red_sunflower', origin=sunflower_url)\n",
        "\n",
        "# img = tf.keras.utils.load_img(\n",
        "#     sunflower_path, target_size=(img_height, img_width)\n",
        "# )\n",
        "# img_array = tf.keras.utils.img_to_array(img)\n",
        "# img_array = tf.expand_dims(img_array, 0)\n",
        "\n",
        "# # make predictions\n",
        "# predictions = model.predict(img_array)\n",
        "# score = tf.nn.softmax(predictions[0])\n",
        "\n",
        "# # print inference result\n",
        "# print(\"На изображении скорее всего {} ({:.2f}% вероятность)\".format(\n",
        "# \tclass_names[np.argmax(score)],\n",
        "# \t100 * np.max(score)))\n",
        "\n",
        "# # show the image itself\n",
        "# img.show()"
      ],
      "metadata": {
        "id": "cskVbMT3TDBo"
      },
      "execution_count": null,
      "outputs": []
    },
    {
      "cell_type": "code",
      "source": [
        "# экспорт модели\n",
        "# from google.colab import files\n",
        "\n",
        "# model_file_name = \"my_flowers_model.h5\"\n",
        "\n",
        "# # save model\n",
        "# model.save(model_file_name)\n",
        "\n",
        "# # download model\n",
        "# files.download(model_file_name)"
      ],
      "metadata": {
        "id": "NQ7MGNHSHJ0z"
      },
      "execution_count": null,
      "outputs": []
    },
    {
      "cell_type": "code",
      "source": [
        "\n"
      ],
      "metadata": {
        "id": "b3ggf5IaKRZt"
      },
      "execution_count": null,
      "outputs": []
    }
  ]
}